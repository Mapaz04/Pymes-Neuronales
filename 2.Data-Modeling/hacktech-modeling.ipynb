{
 "cells": [
  {
   "cell_type": "code",
   "execution_count": null,
   "metadata": {},
   "outputs": [],
   "source": [
    "from datetime import datetime\n",
    "\n",
    "now = datetime.now()\n",
    "\n",
    "current_time = now.strftime(\"%H:%M:%S\")\n",
    "print(\"Current Time =\", current_time)"
   ]
  },
  {
   "cell_type": "code",
   "execution_count": 1,
   "metadata": {},
   "outputs": [],
   "source": [
    "# Importing libraries\n",
    "import pandas as pd\n",
    "import matplotlib.pyplot as plt\n",
    "import numpy as np\n",
    "\n",
    "#ANN libreries\n",
    "from tensorflow.keras.models import Sequential\n",
    "from tensorflow.keras.layers import Dense\n",
    "from tensorflow.keras.optimizers import Adam\n",
    "from sklearn.model_selection import train_test_split\n",
    "import tensorflow as tf\n",
    "from tensorflow.keras import layers\n",
    "\n",
    "#clusters libraries\n",
    "from sklearn.cluster import KMeans"
   ]
  },
  {
   "cell_type": "markdown",
   "metadata": {},
   "source": [
    "## 1. Data"
   ]
  },
  {
   "cell_type": "code",
   "execution_count": 2,
   "metadata": {},
   "outputs": [
    {
     "name": "stdout",
     "output_type": "stream",
     "text": [
      "<class 'pandas.core.frame.DataFrame'>\n",
      "RangeIndex: 40117 entries, 0 to 40116\n",
      "Data columns (total 10 columns):\n",
      " #   Column                 Non-Null Count  Dtype  \n",
      "---  ------                 --------------  -----  \n",
      " 0   admission_date         40117 non-null  int64  \n",
      " 1   income_monthly_amount  40117 non-null  float64\n",
      " 2   balance_amount         40117 non-null  float64\n",
      " 3   montoOR                40117 non-null  float64\n",
      " 4   cantiOR                40117 non-null  float64\n",
      " 5   transaOR               40117 non-null  float64\n",
      " 6   montoDE                40117 non-null  float64\n",
      " 7   cantiDE                40117 non-null  float64\n",
      " 8   transaDE               40117 non-null  float64\n",
      " 9   clasifica              40117 non-null  int64  \n",
      "dtypes: float64(8), int64(2)\n",
      "memory usage: 3.1 MB\n"
     ]
    }
   ],
   "source": [
    "# read the data\n",
    "base = pd.read_csv(\"data_pyme.csv\")\n",
    "base.info()"
   ]
  },
  {
   "cell_type": "code",
   "execution_count": 3,
   "metadata": {},
   "outputs": [
    {
     "data": {
      "text/plain": [
       "1    36986\n",
       "0     3131\n",
       "Name: clasifica, dtype: int64"
      ]
     },
     "execution_count": 3,
     "metadata": {},
     "output_type": "execute_result"
    }
   ],
   "source": [
    "base[\"clasifica\"].value_counts()"
   ]
  },
  {
   "cell_type": "code",
   "execution_count": 4,
   "metadata": {},
   "outputs": [],
   "source": [
    "clasifica1 = base.query(\"clasifica == 1\")\n",
    "clasifica0 = base.query(\"clasifica == 0\")"
   ]
  },
  {
   "cell_type": "code",
   "execution_count": 5,
   "metadata": {},
   "outputs": [],
   "source": [
    "np.random.seed(42)\n",
    "remove_n = len(clasifica1) - len(clasifica0)\n",
    "\n",
    "drop_indices = np.random.choice(clasifica1.index, remove_n, replace=False)\n",
    "data_1 = clasifica1.drop(drop_indices)"
   ]
  },
  {
   "cell_type": "code",
   "execution_count": 6,
   "metadata": {},
   "outputs": [],
   "source": [
    "frames = [clasifica0,data_1]"
   ]
  },
  {
   "cell_type": "code",
   "execution_count": 7,
   "metadata": {},
   "outputs": [],
   "source": [
    "data_concat = pd.concat(frames)"
   ]
  },
  {
   "cell_type": "code",
   "execution_count": 8,
   "metadata": {},
   "outputs": [
    {
     "data": {
      "text/plain": [
       "1    3131\n",
       "0    3131\n",
       "Name: clasifica, dtype: int64"
      ]
     },
     "execution_count": 8,
     "metadata": {},
     "output_type": "execute_result"
    }
   ],
   "source": [
    "data_concat[\"clasifica\"].value_counts()"
   ]
  },
  {
   "cell_type": "code",
   "execution_count": 9,
   "metadata": {
    "scrolled": true
   },
   "outputs": [],
   "source": [
    "data_concat_sin_salida = data_concat.drop(['clasifica'], axis=1)"
   ]
  },
  {
   "cell_type": "code",
   "execution_count": 10,
   "metadata": {},
   "outputs": [],
   "source": [
    "#normalizacion\n",
    "mean = data_concat_sin_salida.mean()\n",
    "std = data_concat_sin_salida.std()\n",
    "\n",
    "data_norm_sin_salida = (data_concat_sin_salida - mean) / std"
   ]
  },
  {
   "cell_type": "code",
   "execution_count": 11,
   "metadata": {},
   "outputs": [],
   "source": [
    "data = data_norm_sin_salida"
   ]
  },
  {
   "cell_type": "code",
   "execution_count": 12,
   "metadata": {},
   "outputs": [],
   "source": [
    "data[\"salida\"] = data_concat[\"clasifica\"]"
   ]
  },
  {
   "cell_type": "markdown",
   "metadata": {},
   "source": [
    "# 2. Cluster"
   ]
  },
  {
   "cell_type": "code",
   "execution_count": 15,
   "metadata": {},
   "outputs": [],
   "source": [
    "# X: matriz de orden nxm, n: muestras, m:variables\n",
    "# kMax: número máximo de clusters\n",
    "def graficarInercia(X, kLista):\n",
    "    \n",
    "    inerciaList = []\n",
    "    \n",
    "    # hallar los diferentes clusters\n",
    "    for k in kLista:\n",
    "        kmeans = KMeans(n_clusters = k, \n",
    "                        random_state = 0, \n",
    "                        init = \"random\",\n",
    "                        n_init = 10,\n",
    "                        verbose = 0).fit(X)\n",
    "\n",
    "        inerciaList.append(kmeans.inertia_)\n",
    "\n",
    "    return kLista, inerciaList"
   ]
  },
  {
   "cell_type": "code",
   "execution_count": 16,
   "metadata": {},
   "outputs": [
    {
     "data": {
      "image/png": "[encoded data removed]",
      "text/plain": [
       "<Figure size 432x432 with 1 Axes>"
      ]
     },
     "metadata": {
      "needs_background": "light"
     },
     "output_type": "display_data"
    }
   ],
   "source": [
    "# gráfico de inercia para seleccionar el número adeuado de clusters\n",
    "k_max = 15\n",
    "x, y = graficarInercia(data, list(range(1, k_max)))\n",
    "\n",
    "fig = plt.figure(figsize=(6,6))\n",
    "\n",
    "plt.plot(x, y)\n",
    "plt.title(\"Gráfico de Inercia\", fontweight='bold')\n",
    "plt.xlabel(\"Número de Clusters\", fontweight='bold')\n",
    "plt.ylabel(\"Inercia\", fontweight='bold')\n",
    "plt.xticks(list(range(2,k_max,2)))\n",
    "plt.show()"
   ]
  },
  {
   "cell_type": "code",
   "execution_count": 17,
   "metadata": {
    "scrolled": true
   },
   "outputs": [],
   "source": [
    "# se escogió hallar 2 clusters\n",
    "kmeans = KMeans(n_clusters = 2, \n",
    "                random_state = 42, \n",
    "                init = \"random\",\n",
    "                n_init = 10,\n",
    "                verbose = 0).fit(data)"
   ]
  },
  {
   "cell_type": "markdown",
   "metadata": {},
   "source": [
    "### Capturar un registro al cluster"
   ]
  },
  {
   "cell_type": "code",
   "execution_count": 28,
   "metadata": {
    "scrolled": true
   },
   "outputs": [],
   "source": [
    "#captura registro\n",
    "registro = [16,17218.00,3797.00,23568.00,11,8902,17879,6,3281]\n",
    "registro_numpy = np.array(registro).reshape(1, -1)\n",
    "salCluster = 1\n",
    "\n",
    "#norma\n",
    "mean_reg = registro_numpy.mean()\n",
    "std_reg = registro_numpy.std()\n",
    "registro_numpy_norma = (registro_numpy - mean_reg) / std_reg\n",
    "registro_numpy_norma = np.append(registro_numpy_norma,salCluster).reshape(1, -1)\n",
    "\n",
    "#insertar al cluster\n",
    "clustersWEB = kmeans.predict(registro_numpy_norma)"
   ]
  },
  {
   "cell_type": "code",
   "execution_count": 29,
   "metadata": {},
   "outputs": [
    {
     "data": {
      "text/plain": [
       "array([0], dtype=int32)"
      ]
     },
     "execution_count": 29,
     "metadata": {},
     "output_type": "execute_result"
    }
   ],
   "source": [
    "#NOMBRE DEL CLUSTER! --> cluster 0\n",
    "clustersWEB"
   ]
  },
  {
   "cell_type": "code",
   "execution_count": 22,
   "metadata": {},
   "outputs": [],
   "source": [
    "# almacenar los clusteres hallados\n",
    "k_means_clusters = kmeans.predict(data)"
   ]
  },
  {
   "cell_type": "code",
   "execution_count": 23,
   "metadata": {
    "scrolled": false
   },
   "outputs": [
    {
     "data": {
      "image/png": "[encoded data removed]",
      "text/plain": [
       "<Figure size 1080x288 with 1 Axes>"
      ]
     },
     "metadata": {
      "needs_background": "light"
     },
     "output_type": "display_data"
    }
   ],
   "source": [
    "#graficar clusters\n",
    "\n",
    "temp_df = pd.DataFrame(kmeans.cluster_centers_, columns=data.columns)\n",
    "temp_df[\"k_means\"] = kmeans.predict(temp_df.values)  # rename clusters names\n",
    "\n",
    "\n",
    "fig = plt.figure(figsize=(15,4))\n",
    "\n",
    "chart = pd.plotting.parallel_coordinates(\n",
    "   frame = temp_df,\n",
    "   class_column = \"k_means\",\n",
    "   color = ('#fe0400', '#8800FF', '#1bb02a', '#ff00ff'))\n",
    "\n",
    "chart.set_title(\"Centroides por clusters (k-means)\", fontsize=14, fontweight='bold')\n",
    "chart.set_ylabel(\"Puntuación promedio\",fontsize=13, fontweight='bold')\n",
    "chart.set_xticklabels(chart.get_xticklabels(), rotation=75, fontsize=14);"
   ]
  },
  {
   "cell_type": "code",
   "execution_count": 24,
   "metadata": {},
   "outputs": [
    {
     "data": {
      "text/plain": [
       "Counter({0: 6024, 1: 238})"
      ]
     },
     "execution_count": 24,
     "metadata": {},
     "output_type": "execute_result"
    }
   ],
   "source": [
    "import collections, numpy\n",
    "\n",
    "#cantidad de datos en cada cluster\n",
    "collections.Counter(k_means_clusters)"
   ]
  },
  {
   "cell_type": "markdown",
   "metadata": {},
   "source": [
    "- Cluster 0: todo bajo (mas empresas)\n",
    "- cluster 1: Todo alto (menos empresas)\n"
   ]
  },
  {
   "cell_type": "code",
   "execution_count": null,
   "metadata": {},
   "outputs": [],
   "source": []
  },
  {
   "cell_type": "markdown",
   "metadata": {},
   "source": [
    "# Redes Neuronales"
   ]
  },
  {
   "cell_type": "markdown",
   "metadata": {},
   "source": [
    "## 1. Data"
   ]
  },
  {
   "cell_type": "code",
   "execution_count": null,
   "metadata": {},
   "outputs": [],
   "source": [
    "#convirtiendo a numpy data\n",
    "data_numpy = data.values"
   ]
  },
  {
   "cell_type": "code",
   "execution_count": null,
   "metadata": {},
   "outputs": [],
   "source": [
    "clusterID = k_means_clusters\n",
    "\n",
    "data_numpy_cluster = data_numpy\n",
    "\n",
    "data_numpy_cluster = np.insert(data_numpy_cluster, len(data_numpy_cluster[0]+1), clusterID, axis=1)"
   ]
  },
  {
   "cell_type": "code",
   "execution_count": null,
   "metadata": {},
   "outputs": [],
   "source": [
    "def extraigoCluster(a):\n",
    "    \n",
    "    cluster0 = []\n",
    "\n",
    "    #recorro todo el data set\n",
    "    for i in range(len(data_numpy_cluster)):\n",
    "    \n",
    "        #condicion para solo tomar labels 0 o 1\n",
    "        if(data_numpy_cluster[i,-1] == a):\n",
    "            cluster0.append(data_numpy_cluster[i])\n",
    "\n",
    "    return np.array(cluster0)"
   ]
  },
  {
   "cell_type": "code",
   "execution_count": null,
   "metadata": {},
   "outputs": [],
   "source": [
    "#agregando columnda de label de cluster y separando cada cluster en una variables\n",
    "cluster0_np = extraigoCluster(0)\n",
    "cluster1_np = extraigoCluster(1)"
   ]
  },
  {
   "cell_type": "code",
   "execution_count": null,
   "metadata": {},
   "outputs": [],
   "source": [
    "cluster0_np_total = np.delete(cluster0_np, -1, axis=1)\n",
    "cluster1_np_total = np.delete(cluster1_np, -1, axis=1)"
   ]
  },
  {
   "cell_type": "code",
   "execution_count": null,
   "metadata": {},
   "outputs": [],
   "source": [
    "cluster0_np_total[0]"
   ]
  },
  {
   "cell_type": "markdown",
   "metadata": {},
   "source": [
    "# 3. Redes Neuronales"
   ]
  },
  {
   "cell_type": "markdown",
   "metadata": {},
   "source": [
    "### 3.1. Cluster 0"
   ]
  },
  {
   "cell_type": "code",
   "execution_count": null,
   "metadata": {},
   "outputs": [],
   "source": [
    "#Preparing inputs y outputs\n",
    "\n",
    "ind_variables = len(cluster0_np_total[0])"
   ]
  },
  {
   "cell_type": "code",
   "execution_count": null,
   "metadata": {
    "scrolled": true
   },
   "outputs": [],
   "source": [
    "#data y labels\n",
    "\n",
    "X = cluster0_np_total[:, :ind_variables]\n",
    "Y = cluster0_np_total[:, -1]"
   ]
  },
  {
   "cell_type": "code",
   "execution_count": null,
   "metadata": {},
   "outputs": [],
   "source": [
    "#train-test split  80% train / 20%testear\n",
    "\n",
    "X_train, X_test, y_train, y_test = train_test_split(X, Y, test_size=0.2, random_state=42)"
   ]
  },
  {
   "cell_type": "markdown",
   "metadata": {},
   "source": [
    "## 2. Arquitectura"
   ]
  },
  {
   "cell_type": "code",
   "execution_count": null,
   "metadata": {},
   "outputs": [],
   "source": [
    "X[0]"
   ]
  },
  {
   "cell_type": "code",
   "execution_count": null,
   "metadata": {
    "scrolled": true
   },
   "outputs": [],
   "source": [
    "#infraestructuta de red\n",
    "\n",
    "model_1 = Sequential([\n",
    "    Dense(10, activation='relu'),\n",
    "    Dense(10, activation='relu'),\n",
    "    Dense(1, activation='relu'),\n",
    "])\n",
    "\n",
    "\n",
    "# configuracion de red\n",
    "\n",
    "model_1.compile(\n",
    "    optimizer = Adam(learning_rate=0.001),\n",
    "    loss = 'mae',\n",
    "    metrics = ['accuracy'])"
   ]
  },
  {
   "cell_type": "code",
   "execution_count": null,
   "metadata": {},
   "outputs": [],
   "source": [
    "Y[0]"
   ]
  },
  {
   "cell_type": "code",
   "execution_count": null,
   "metadata": {
    "scrolled": true
   },
   "outputs": [],
   "source": [
    "history = model_1.fit(x = X_train, \n",
    "                    y = y_train, \n",
    "                    validation_data = (X_test, y_test),\n",
    "                    epochs=50\n",
    "                    )"
   ]
  },
  {
   "cell_type": "code",
   "execution_count": null,
   "metadata": {},
   "outputs": [],
   "source": [
    "# metrics\n",
    "print(\"final metrics:\", model_1.evaluate(X_test, y_test, verbose=False))\n"
   ]
  },
  {
   "cell_type": "code",
   "execution_count": null,
   "metadata": {},
   "outputs": [],
   "source": [
    "X_test.shape"
   ]
  },
  {
   "cell_type": "code",
   "execution_count": null,
   "metadata": {},
   "outputs": [],
   "source": [
    "registro_numpy_norma.shape"
   ]
  },
  {
   "cell_type": "code",
   "execution_count": null,
   "metadata": {},
   "outputs": [],
   "source": [
    "Xnew = registro_numpy_norma\n",
    "ynew = model_1.predict_classes(Xnew)"
   ]
  },
  {
   "cell_type": "markdown",
   "metadata": {},
   "source": [
    "### 3.2 Cluster 1"
   ]
  },
  {
   "cell_type": "code",
   "execution_count": null,
   "metadata": {},
   "outputs": [],
   "source": []
  },
  {
   "cell_type": "code",
   "execution_count": null,
   "metadata": {},
   "outputs": [],
   "source": [
    "#Preparing inputs y outputs\n",
    "\n",
    "ind_variables1 = len(cluster1_np_total[0])-2"
   ]
  },
  {
   "cell_type": "code",
   "execution_count": null,
   "metadata": {
    "scrolled": true
   },
   "outputs": [],
   "source": [
    "#data y labels\n",
    "\n",
    "X1 = cluster1_np_total[:, :ind_variables1]\n",
    "Y1 = cluster1_np_total[:, -1]"
   ]
  },
  {
   "cell_type": "code",
   "execution_count": null,
   "metadata": {},
   "outputs": [],
   "source": [
    "#train-test split  80% train / 20%testear\n",
    "\n",
    "X1_train, X1_test, y1_train, y1_test = train_test_split(X1, Y1, test_size=0.2, random_state=42)"
   ]
  },
  {
   "cell_type": "code",
   "execution_count": null,
   "metadata": {},
   "outputs": [],
   "source": [
    "#infraestructuta de red\n",
    "\n",
    "model_2 = Sequential([\n",
    "    Dense(10, activation='relu'),\n",
    "    Dense(10, activation='relu'),\n",
    "    Dense(1, activation='relu'),\n",
    "])\n",
    "\n",
    "\n",
    "# configuracion de red\n",
    "\n",
    "model_2.compile(\n",
    "    optimizer = Adam(learning_rate=0.001),\n",
    "    loss = 'mae',\n",
    "    metrics = ['accuracy'])"
   ]
  },
  {
   "cell_type": "code",
   "execution_count": null,
   "metadata": {
    "scrolled": true
   },
   "outputs": [],
   "source": [
    "history = model_2.fit(x = X1_train, \n",
    "                    y = y1_train, \n",
    "                    validation_data = (X1_test, y1_test),\n",
    "                    epochs=50\n",
    "                    )"
   ]
  },
  {
   "cell_type": "code",
   "execution_count": null,
   "metadata": {},
   "outputs": [],
   "source": [
    "# metrics\n",
    "print(\"final metrics:\", model_2.evaluate(X1_test, y1_test, verbose=False))"
   ]
  },
  {
   "cell_type": "code",
   "execution_count": null,
   "metadata": {},
   "outputs": [],
   "source": [
    "X1_test[0]"
   ]
  },
  {
   "cell_type": "code",
   "execution_count": null,
   "metadata": {},
   "outputs": [],
   "source": [
    "from datetime import datetime\n",
    "\n",
    "now = datetime.now()\n",
    "\n",
    "current_time = now.strftime(\"%H:%M:%S\")\n",
    "print(\"Current Time =\", current_time)"
   ]
  }
 ],
 "metadata": {
  "kernelspec": {
   "display_name": "Python 3",
   "language": "python",
   "name": "python3"
  },
  "language_info": {
   "codemirror_mode": {
    "name": "ipython",
    "version": 3
   },
   "file_extension": ".py",
   "mimetype": "text/x-python",
   "name": "python",
   "nbconvert_exporter": "python",
   "pygments_lexer": "ipython3",
   "version": "3.7.4"
  }
 },
 "nbformat": 4,
 "nbformat_minor": 4
}
