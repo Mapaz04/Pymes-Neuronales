{
 "cells": [
  {
   "cell_type": "code",
   "execution_count": null,
   "metadata": {},
   "outputs": [],
   "source": [
    "from datetime import datetime\n",
    "\n",
    "now = datetime.now()\n",
    "\n",
    "current_time = now.strftime(\"%H:%M:%S\")\n",
    "print(\"Current Time =\", current_time)"
   ]
  },
  {
   "cell_type": "code",
   "execution_count": 1,
   "metadata": {},
   "outputs": [],
   "source": [
    "# Importing libraries\n",
    "import pandas as pd\n",
    "import matplotlib.pyplot as plt\n",
    "import numpy as np\n",
    "\n",
    "#ANN libreries\n",
    "from tensorflow.keras.models import Sequential\n",
    "from tensorflow.keras.layers import Dense\n",
    "from tensorflow.keras.optimizers import Adam\n",
    "from sklearn.model_selection import train_test_split\n",
    "import tensorflow as tf\n",
    "from tensorflow.keras import layers\n",
    "\n",
    "#clusters libraries\n",
    "from sklearn.cluster import KMeans"
   ]
  },
  {
   "cell_type": "markdown",
   "metadata": {},
   "source": [
    "## 1. Data"
   ]
  },
  {
   "cell_type": "code",
   "execution_count": 2,
   "metadata": {},
   "outputs": [
    {
     "name": "stdout",
     "output_type": "stream",
     "text": [
      "<class 'pandas.core.frame.DataFrame'>\n",
      "RangeIndex: 40117 entries, 0 to 40116\n",
      "Data columns (total 10 columns):\n",
      " #   Column                 Non-Null Count  Dtype  \n",
      "---  ------                 --------------  -----  \n",
      " 0   admission_date         40117 non-null  int64  \n",
      " 1   income_monthly_amount  40117 non-null  float64\n",
      " 2   balance_amount         40117 non-null  float64\n",
      " 3   montoOR                40117 non-null  float64\n",
      " 4   cantiOR                40117 non-null  float64\n",
      " 5   transaOR               40117 non-null  float64\n",
      " 6   montoDE                40117 non-null  float64\n",
      " 7   cantiDE                40117 non-null  float64\n",
      " 8   transaDE               40117 non-null  float64\n",
      " 9   clasifica              40117 non-null  int64  \n",
      "dtypes: float64(8), int64(2)\n",
      "memory usage: 3.1 MB\n"
     ]
    }
   ],
   "source": [
    "# read the data\n",
    "base = pd.read_csv(\"data_pyme.csv\")\n",
    "base.info()"
   ]
  },
  {
   "cell_type": "code",
   "execution_count": 3,
   "metadata": {},
   "outputs": [
    {
     "data": {
      "text/plain": [
       "1    36986\n",
       "0     3131\n",
       "Name: clasifica, dtype: int64"
      ]
     },
     "execution_count": 3,
     "metadata": {},
     "output_type": "execute_result"
    }
   ],
   "source": [
    "base[\"clasifica\"].value_counts()"
   ]
  },
  {
   "cell_type": "code",
   "execution_count": 4,
   "metadata": {},
   "outputs": [],
   "source": [
    "clasifica1 = base.query(\"clasifica == 1\")\n",
    "clasifica0 = base.query(\"clasifica == 0\")"
   ]
  },
  {
   "cell_type": "code",
   "execution_count": 5,
   "metadata": {},
   "outputs": [],
   "source": [
    "np.random.seed(42)\n",
    "remove_n = len(clasifica1) - len(clasifica0)\n",
    "\n",
    "drop_indices = np.random.choice(clasifica1.index, remove_n, replace=False)\n",
    "data_1 = clasifica1.drop(drop_indices)"
   ]
  },
  {
   "cell_type": "code",
   "execution_count": 6,
   "metadata": {},
   "outputs": [],
   "source": [
    "frames = [clasifica0,data_1]"
   ]
  },
  {
   "cell_type": "code",
   "execution_count": 7,
   "metadata": {},
   "outputs": [],
   "source": [
    "data_concat = pd.concat(frames)"
   ]
  },
  {
   "cell_type": "code",
   "execution_count": 8,
   "metadata": {},
   "outputs": [
    {
     "data": {
      "text/plain": [
       "1    3131\n",
       "0    3131\n",
       "Name: clasifica, dtype: int64"
      ]
     },
     "execution_count": 8,
     "metadata": {},
     "output_type": "execute_result"
    }
   ],
   "source": [
    "data_concat[\"clasifica\"].value_counts()"
   ]
  },
  {
   "cell_type": "code",
   "execution_count": 9,
   "metadata": {
    "scrolled": true
   },
   "outputs": [],
   "source": [
    "data_concat_sin_salida = data_concat.drop(['clasifica'], axis=1)"
   ]
  },
  {
   "cell_type": "code",
   "execution_count": 10,
   "metadata": {},
   "outputs": [],
   "source": [
    "#normalizacion\n",
    "mean = data_concat_sin_salida.mean()\n",
    "std = data_concat_sin_salida.std()\n",
    "\n",
    "data_norm_sin_salida = (data_concat_sin_salida - mean) / std"
   ]
  },
  {
   "cell_type": "code",
   "execution_count": 11,
   "metadata": {},
   "outputs": [],
   "source": [
    "data = data_norm_sin_salida"
   ]
  },
  {
   "cell_type": "code",
   "execution_count": 12,
   "metadata": {},
   "outputs": [],
   "source": [
    "data[\"salida\"] = data_concat[\"clasifica\"]"
   ]
  },
  {
   "cell_type": "markdown",
   "metadata": {},
   "source": [
    "# 2. Cluster"
   ]
  },
  {
   "cell_type": "code",
   "execution_count": 13,
   "metadata": {},
   "outputs": [],
   "source": [
    "# X: matriz de orden nxm, n: muestras, m:variables\n",
    "# kMax: número máximo de clusters\n",
    "def graficarInercia(X, kLista):\n",
    "    \n",
    "    inerciaList = []\n",
    "    \n",
    "    # hallar los diferentes clusters\n",
    "    for k in kLista:\n",
    "        kmeans = KMeans(n_clusters = k, \n",
    "                        random_state = 0, \n",
    "                        init = \"random\",\n",
    "                        n_init = 10,\n",
    "                        verbose = 0).fit(X)\n",
    "\n",
    "        inerciaList.append(kmeans.inertia_)\n",
    "\n",
    "    return kLista, inerciaList"
   ]
  },
  {
   "cell_type": "code",
   "execution_count": 14,
   "metadata": {},
   "outputs": [
    {
     "data": {
      "image/png": "[encoded data removed]",
      "text/plain": [
       "<Figure size 432x432 with 1 Axes>"
      ]
     },
     "metadata": {
      "needs_background": "light"
     },
     "output_type": "display_data"
    }
   ],
   "source": [
    "# gráfico de inercia para seleccionar el número adeuado de clusters\n",
    "k_max = 15\n",
    "x, y = graficarInercia(data, list(range(1, k_max)))\n",
    "\n",
    "fig = plt.figure(figsize=(6,6))\n",
    "\n",
    "plt.plot(x, y)\n",
    "plt.title(\"Gráfico de Inercia\", fontweight='bold')\n",
    "plt.xlabel(\"Número de Clusters\", fontweight='bold')\n",
    "plt.ylabel(\"Inercia\", fontweight='bold')\n",
    "plt.xticks(list(range(2,k_max,2)))\n",
    "plt.show()"
   ]
  },
  {
   "cell_type": "code",
   "execution_count": 15,
   "metadata": {
    "scrolled": true
   },
   "outputs": [],
   "source": [
    "# se escogió hallar 2 clusters\n",
    "kmeans = KMeans(n_clusters = 2, \n",
    "                random_state = 42, \n",
    "                init = \"random\",\n",
    "                n_init = 10,\n",
    "                verbose = 0).fit(data)"
   ]
  },
  {
   "cell_type": "markdown",
   "metadata": {},
   "source": [
    "### Capturar un registro al cluster"
   ]
  },
  {
   "cell_type": "code",
   "execution_count": null,
   "metadata": {
    "scrolled": true
   },
   "outputs": [],
   "source": [
    "#captura registro\n",
    "#registro = [16,17218.00,3797.00,23568.00,11,8902,17879,6,3281]\n",
    "#registro_numpy = np.array(registro).reshape(1, -1)\n",
    "#salCluster = 1\n",
    "\n",
    "#norma\n",
    "#mean_reg = registro_numpy.mean()\n",
    "#std_reg = registro_numpy.std()\n",
    "#registro_numpy_norma = (registro_numpy - mean_reg) / std_reg\n",
    "#registro_numpy_norma = np.append(registro_numpy_norma,salCluster).reshape(1, -1)\n",
    "\n",
    "#insertar al cluster\n",
    "#clustersWEB = kmeans.predict(registro_numpy_norma)"
   ]
  },
  {
   "cell_type": "code",
   "execution_count": null,
   "metadata": {},
   "outputs": [],
   "source": [
    "#NOMBRE DEL CLUSTER! --> cluster 0\n",
    "#clustersWEB"
   ]
  },
  {
   "cell_type": "code",
   "execution_count": 16,
   "metadata": {},
   "outputs": [],
   "source": [
    "# almacenar los clusteres hallados\n",
    "k_means_clusters = kmeans.predict(data)"
   ]
  },
  {
   "cell_type": "code",
   "execution_count": 17,
   "metadata": {
    "scrolled": false
   },
   "outputs": [
    {
     "data": {
      "image/png": "[encoded data removed]",
      "text/plain": [
       "<Figure size 1080x288 with 1 Axes>"
      ]
     },
     "metadata": {
      "needs_background": "light"
     },
     "output_type": "display_data"
    }
   ],
   "source": [
    "#graficar clusters\n",
    "\n",
    "temp_df = pd.DataFrame(kmeans.cluster_centers_, columns=data.columns)\n",
    "temp_df[\"k_means\"] = kmeans.predict(temp_df.values)  # rename clusters names\n",
    "\n",
    "\n",
    "fig = plt.figure(figsize=(15,4))\n",
    "\n",
    "chart = pd.plotting.parallel_coordinates(\n",
    "   frame = temp_df,\n",
    "   class_column = \"k_means\",\n",
    "   color = ('#fe0400', '#8800FF', '#1bb02a', '#ff00ff'))\n",
    "\n",
    "chart.set_title(\"Centroides por clusters (k-means)\", fontsize=14, fontweight='bold')\n",
    "chart.set_ylabel(\"Puntuación promedio\",fontsize=13, fontweight='bold')\n",
    "chart.set_xticklabels(chart.get_xticklabels(), rotation=75, fontsize=14);"
   ]
  },
  {
   "cell_type": "code",
   "execution_count": 18,
   "metadata": {},
   "outputs": [
    {
     "data": {
      "text/plain": [
       "Counter({1: 6024, 0: 238})"
      ]
     },
     "execution_count": 18,
     "metadata": {},
     "output_type": "execute_result"
    }
   ],
   "source": [
    "import collections, numpy\n",
    "\n",
    "#cantidad de datos en cada cluster\n",
    "collections.Counter(k_means_clusters)"
   ]
  },
  {
   "cell_type": "markdown",
   "metadata": {},
   "source": [
    "- Cluster 0: todo bajo (mas empresas)\n",
    "- cluster 1: Todo alto (menos empresas)\n"
   ]
  },
  {
   "cell_type": "code",
   "execution_count": null,
   "metadata": {},
   "outputs": [],
   "source": []
  },
  {
   "cell_type": "markdown",
   "metadata": {},
   "source": [
    "# Redes Neuronales"
   ]
  },
  {
   "cell_type": "markdown",
   "metadata": {},
   "source": [
    "## 1. Data"
   ]
  },
  {
   "cell_type": "code",
   "execution_count": 19,
   "metadata": {},
   "outputs": [],
   "source": [
    "#convirtiendo a numpy data\n",
    "data_numpy = data.values"
   ]
  },
  {
   "cell_type": "code",
   "execution_count": 20,
   "metadata": {},
   "outputs": [],
   "source": [
    "clusterID = k_means_clusters\n",
    "\n",
    "data_numpy_cluster = data_numpy\n",
    "\n",
    "data_numpy_cluster = np.insert(data_numpy_cluster, len(data_numpy_cluster[0]+1), clusterID, axis=1)"
   ]
  },
  {
   "cell_type": "code",
   "execution_count": 21,
   "metadata": {},
   "outputs": [],
   "source": [
    "def extraigoCluster(a):\n",
    "    \n",
    "    cluster0 = []\n",
    "\n",
    "    #recorro todo el data set\n",
    "    for i in range(len(data_numpy_cluster)):\n",
    "    \n",
    "        #condicion para solo tomar labels 0 o 1\n",
    "        if(data_numpy_cluster[i,-1] == a):\n",
    "            cluster0.append(data_numpy_cluster[i])\n",
    "\n",
    "    return np.array(cluster0)"
   ]
  },
  {
   "cell_type": "code",
   "execution_count": 22,
   "metadata": {},
   "outputs": [],
   "source": [
    "#agregando columnda de label de cluster y separando cada cluster en una variables\n",
    "cluster0_np = extraigoCluster(0)\n",
    "cluster1_np = extraigoCluster(1)"
   ]
  },
  {
   "cell_type": "code",
   "execution_count": 23,
   "metadata": {},
   "outputs": [],
   "source": [
    "cluster0_np_total = np.delete(cluster0_np, -1, axis=1)\n",
    "cluster1_np_total = np.delete(cluster1_np, -1, axis=1)"
   ]
  },
  {
   "cell_type": "code",
   "execution_count": 24,
   "metadata": {},
   "outputs": [
    {
     "data": {
      "text/plain": [
       "array([ 2.82197082, -0.24912428, 10.43706771,  1.47325999, 12.48306855,\n",
       "        1.04948978,  5.10416598, 12.59220971,  3.89964151,  0.        ])"
      ]
     },
     "execution_count": 24,
     "metadata": {},
     "output_type": "execute_result"
    }
   ],
   "source": [
    "cluster0_np_total[0]"
   ]
  },
  {
   "cell_type": "markdown",
   "metadata": {},
   "source": [
    "# 3. Redes Neuronales"
   ]
  },
  {
   "cell_type": "markdown",
   "metadata": {},
   "source": [
    "### 3.1. Cluster 0"
   ]
  },
  {
   "cell_type": "code",
   "execution_count": 25,
   "metadata": {},
   "outputs": [],
   "source": [
    "#Preparing inputs y outputs\n",
    "\n",
    "ind_variables = len(cluster0_np_total[0])-1"
   ]
  },
  {
   "cell_type": "code",
   "execution_count": 26,
   "metadata": {
    "scrolled": true
   },
   "outputs": [],
   "source": [
    "#data y labels\n",
    "\n",
    "X = cluster0_np_total[:, :ind_variables]\n",
    "Y = cluster0_np_total[:, -1]"
   ]
  },
  {
   "cell_type": "code",
   "execution_count": 28,
   "metadata": {},
   "outputs": [],
   "source": [
    "#train-test split  80% train / 20%testear\n",
    "\n",
    "X_train, X_test, y_train, y_test = train_test_split(X, Y, test_size=0.2, random_state=42)"
   ]
  },
  {
   "cell_type": "markdown",
   "metadata": {},
   "source": [
    "## 2. Arquitectura"
   ]
  },
  {
   "cell_type": "code",
   "execution_count": 29,
   "metadata": {
    "scrolled": true
   },
   "outputs": [],
   "source": [
    "#infraestructuta de red\n",
    "\n",
    "model_1 = Sequential([\n",
    "    Dense(10, activation='relu'),\n",
    "    Dense(10, activation='relu'),\n",
    "    Dense(1, activation='relu'),\n",
    "])\n",
    "\n",
    "\n",
    "# configuracion de red\n",
    "\n",
    "model_1.compile(\n",
    "    optimizer = Adam(learning_rate=0.001),\n",
    "    loss = 'mae',\n",
    "    metrics = ['accuracy'])"
   ]
  },
  {
   "cell_type": "code",
   "execution_count": 30,
   "metadata": {
    "scrolled": true
   },
   "outputs": [
    {
     "name": "stdout",
     "output_type": "stream",
     "text": [
      "Epoch 1/50\n",
      "6/6 [==============================] - 0s 24ms/step - loss: 0.9940 - accuracy: 0.5263 - val_loss: 1.1564 - val_accuracy: 0.6458\n",
      "Epoch 2/50\n",
      "6/6 [==============================] - 0s 3ms/step - loss: 0.8624 - accuracy: 0.5421 - val_loss: 1.0272 - val_accuracy: 0.6250\n",
      "Epoch 3/50\n",
      "6/6 [==============================] - 0s 4ms/step - loss: 0.7749 - accuracy: 0.5579 - val_loss: 0.9657 - val_accuracy: 0.6458\n",
      "Epoch 4/50\n",
      "6/6 [==============================] - 0s 4ms/step - loss: 0.7322 - accuracy: 0.5947 - val_loss: 0.9372 - val_accuracy: 0.6667\n",
      "Epoch 5/50\n",
      "6/6 [==============================] - 0s 4ms/step - loss: 0.7018 - accuracy: 0.5842 - val_loss: 0.9064 - val_accuracy: 0.6458\n",
      "Epoch 6/50\n",
      "6/6 [==============================] - 0s 4ms/step - loss: 0.6755 - accuracy: 0.5684 - val_loss: 0.8743 - val_accuracy: 0.6458\n",
      "Epoch 7/50\n",
      "6/6 [==============================] - 0s 5ms/step - loss: 0.6500 - accuracy: 0.5789 - val_loss: 0.8436 - val_accuracy: 0.6458\n",
      "Epoch 8/50\n",
      "6/6 [==============================] - 0s 4ms/step - loss: 0.6282 - accuracy: 0.5947 - val_loss: 0.8122 - val_accuracy: 0.6875\n",
      "Epoch 9/50\n",
      "6/6 [==============================] - 0s 4ms/step - loss: 0.6077 - accuracy: 0.6000 - val_loss: 0.7824 - val_accuracy: 0.6875\n",
      "Epoch 10/50\n",
      "6/6 [==============================] - 0s 4ms/step - loss: 0.5898 - accuracy: 0.6053 - val_loss: 0.7513 - val_accuracy: 0.6667\n",
      "Epoch 11/50\n",
      "6/6 [==============================] - 0s 4ms/step - loss: 0.5667 - accuracy: 0.6000 - val_loss: 0.7232 - val_accuracy: 0.6667\n",
      "Epoch 12/50\n",
      "6/6 [==============================] - 0s 4ms/step - loss: 0.5473 - accuracy: 0.6000 - val_loss: 0.6931 - val_accuracy: 0.6667\n",
      "Epoch 13/50\n",
      "6/6 [==============================] - 0s 3ms/step - loss: 0.5263 - accuracy: 0.6158 - val_loss: 0.6659 - val_accuracy: 0.6875\n",
      "Epoch 14/50\n",
      "6/6 [==============================] - 0s 4ms/step - loss: 0.5076 - accuracy: 0.6263 - val_loss: 0.6403 - val_accuracy: 0.7083\n",
      "Epoch 15/50\n",
      "6/6 [==============================] - 0s 3ms/step - loss: 0.4921 - accuracy: 0.6263 - val_loss: 0.6148 - val_accuracy: 0.7083\n",
      "Epoch 16/50\n",
      "6/6 [==============================] - 0s 4ms/step - loss: 0.4786 - accuracy: 0.6316 - val_loss: 0.5923 - val_accuracy: 0.7083\n",
      "Epoch 17/50\n",
      "6/6 [==============================] - 0s 4ms/step - loss: 0.4653 - accuracy: 0.6316 - val_loss: 0.5711 - val_accuracy: 0.7292\n",
      "Epoch 18/50\n",
      "6/6 [==============================] - 0s 4ms/step - loss: 0.4563 - accuracy: 0.6316 - val_loss: 0.5499 - val_accuracy: 0.7292\n",
      "Epoch 19/50\n",
      "6/6 [==============================] - 0s 4ms/step - loss: 0.4465 - accuracy: 0.6316 - val_loss: 0.5298 - val_accuracy: 0.7292\n",
      "Epoch 20/50\n",
      "6/6 [==============================] - 0s 4ms/step - loss: 0.4387 - accuracy: 0.6421 - val_loss: 0.5117 - val_accuracy: 0.7292\n",
      "Epoch 21/50\n",
      "6/6 [==============================] - 0s 4ms/step - loss: 0.4306 - accuracy: 0.6474 - val_loss: 0.4927 - val_accuracy: 0.7083\n",
      "Epoch 22/50\n",
      "6/6 [==============================] - 0s 4ms/step - loss: 0.4211 - accuracy: 0.6474 - val_loss: 0.4773 - val_accuracy: 0.7292\n",
      "Epoch 23/50\n",
      "6/6 [==============================] - 0s 4ms/step - loss: 0.4137 - accuracy: 0.6737 - val_loss: 0.4614 - val_accuracy: 0.7292\n",
      "Epoch 24/50\n",
      "6/6 [==============================] - 0s 4ms/step - loss: 0.4050 - accuracy: 0.6684 - val_loss: 0.4440 - val_accuracy: 0.7292\n",
      "Epoch 25/50\n",
      "6/6 [==============================] - 0s 4ms/step - loss: 0.3907 - accuracy: 0.6737 - val_loss: 0.4275 - val_accuracy: 0.7292\n",
      "Epoch 26/50\n",
      "6/6 [==============================] - 0s 4ms/step - loss: 0.3828 - accuracy: 0.6737 - val_loss: 0.4096 - val_accuracy: 0.7500\n",
      "Epoch 27/50\n",
      "6/6 [==============================] - 0s 4ms/step - loss: 0.3698 - accuracy: 0.6842 - val_loss: 0.3930 - val_accuracy: 0.7500\n",
      "Epoch 28/50\n",
      "6/6 [==============================] - 0s 3ms/step - loss: 0.3596 - accuracy: 0.6895 - val_loss: 0.3783 - val_accuracy: 0.7500\n",
      "Epoch 29/50\n",
      "6/6 [==============================] - 0s 3ms/step - loss: 0.3494 - accuracy: 0.6947 - val_loss: 0.3653 - val_accuracy: 0.7500\n",
      "Epoch 30/50\n",
      "6/6 [==============================] - 0s 4ms/step - loss: 0.3418 - accuracy: 0.6842 - val_loss: 0.3481 - val_accuracy: 0.7500\n",
      "Epoch 31/50\n",
      "6/6 [==============================] - 0s 4ms/step - loss: 0.3307 - accuracy: 0.6895 - val_loss: 0.3380 - val_accuracy: 0.7500\n",
      "Epoch 32/50\n",
      "6/6 [==============================] - 0s 4ms/step - loss: 0.3234 - accuracy: 0.6895 - val_loss: 0.3227 - val_accuracy: 0.7500\n",
      "Epoch 33/50\n",
      "6/6 [==============================] - 0s 4ms/step - loss: 0.3144 - accuracy: 0.7053 - val_loss: 0.3114 - val_accuracy: 0.7708\n",
      "Epoch 34/50\n",
      "6/6 [==============================] - 0s 4ms/step - loss: 0.3094 - accuracy: 0.7316 - val_loss: 0.3043 - val_accuracy: 0.7708\n",
      "Epoch 35/50\n",
      "6/6 [==============================] - 0s 4ms/step - loss: 0.3047 - accuracy: 0.7316 - val_loss: 0.2947 - val_accuracy: 0.7708\n",
      "Epoch 36/50\n",
      "6/6 [==============================] - 0s 4ms/step - loss: 0.2993 - accuracy: 0.7368 - val_loss: 0.2868 - val_accuracy: 0.7708\n",
      "Epoch 37/50\n",
      "6/6 [==============================] - 0s 4ms/step - loss: 0.2958 - accuracy: 0.7579 - val_loss: 0.2796 - val_accuracy: 0.7917\n",
      "Epoch 38/50\n",
      "6/6 [==============================] - 0s 4ms/step - loss: 0.2912 - accuracy: 0.7632 - val_loss: 0.2731 - val_accuracy: 0.7917\n",
      "Epoch 39/50\n",
      "6/6 [==============================] - 0s 4ms/step - loss: 0.2867 - accuracy: 0.7737 - val_loss: 0.2702 - val_accuracy: 0.7917\n",
      "Epoch 40/50\n",
      "6/6 [==============================] - 0s 3ms/step - loss: 0.2830 - accuracy: 0.7737 - val_loss: 0.2726 - val_accuracy: 0.7917\n",
      "Epoch 41/50\n",
      "6/6 [==============================] - 0s 4ms/step - loss: 0.2802 - accuracy: 0.7789 - val_loss: 0.2727 - val_accuracy: 0.7917\n",
      "Epoch 42/50\n",
      "6/6 [==============================] - 0s 4ms/step - loss: 0.2760 - accuracy: 0.7789 - val_loss: 0.2651 - val_accuracy: 0.7917\n",
      "Epoch 43/50\n",
      "6/6 [==============================] - 0s 4ms/step - loss: 0.2698 - accuracy: 0.7789 - val_loss: 0.2625 - val_accuracy: 0.7917\n",
      "Epoch 44/50\n",
      "6/6 [==============================] - 0s 4ms/step - loss: 0.2670 - accuracy: 0.7789 - val_loss: 0.2617 - val_accuracy: 0.7917\n",
      "Epoch 45/50\n",
      "6/6 [==============================] - 0s 4ms/step - loss: 0.2642 - accuracy: 0.7789 - val_loss: 0.2541 - val_accuracy: 0.7917\n",
      "Epoch 46/50\n",
      "6/6 [==============================] - 0s 4ms/step - loss: 0.2603 - accuracy: 0.7789 - val_loss: 0.2502 - val_accuracy: 0.7917\n",
      "Epoch 47/50\n",
      "6/6 [==============================] - 0s 4ms/step - loss: 0.2538 - accuracy: 0.7789 - val_loss: 0.2517 - val_accuracy: 0.7917\n",
      "Epoch 48/50\n",
      "6/6 [==============================] - 0s 4ms/step - loss: 0.2511 - accuracy: 0.7842 - val_loss: 0.2483 - val_accuracy: 0.7917\n",
      "Epoch 49/50\n",
      "6/6 [==============================] - 0s 4ms/step - loss: 0.2461 - accuracy: 0.7895 - val_loss: 0.2422 - val_accuracy: 0.8333\n",
      "Epoch 50/50\n",
      "6/6 [==============================] - 0s 4ms/step - loss: 0.2412 - accuracy: 0.8105 - val_loss: 0.2366 - val_accuracy: 0.8958\n"
     ]
    }
   ],
   "source": [
    "history = model_1.fit(x = X_train, \n",
    "                    y = y_train, \n",
    "                    validation_data = (X_test, y_test),\n",
    "                    epochs=50\n",
    "                    )"
   ]
  },
  {
   "cell_type": "code",
   "execution_count": 31,
   "metadata": {},
   "outputs": [
    {
     "name": "stdout",
     "output_type": "stream",
     "text": [
      "final metrics: [0.23663823306560516, 0.8958333134651184]\n"
     ]
    }
   ],
   "source": [
    "# metrics\n",
    "print(\"final metrics:\", model_1.evaluate(X_test, y_test, verbose=False))\n"
   ]
  },
  {
   "cell_type": "markdown",
   "metadata": {},
   "source": [
    "## agregar un nuevo registro"
   ]
  },
  {
   "cell_type": "code",
   "execution_count": null,
   "metadata": {},
   "outputs": [],
   "source": [
    "#X_test.shape"
   ]
  },
  {
   "cell_type": "code",
   "execution_count": null,
   "metadata": {},
   "outputs": [],
   "source": [
    "#registro_numpy_norma.shape"
   ]
  },
  {
   "cell_type": "code",
   "execution_count": null,
   "metadata": {},
   "outputs": [],
   "source": [
    "#Xnew = registro_numpy_norma\n",
    "#ynew = model_1.predict_classes(Xnew)"
   ]
  },
  {
   "cell_type": "markdown",
   "metadata": {},
   "source": [
    "### 3.2 Cluster 1"
   ]
  },
  {
   "cell_type": "code",
   "execution_count": null,
   "metadata": {},
   "outputs": [],
   "source": []
  },
  {
   "cell_type": "code",
   "execution_count": 32,
   "metadata": {},
   "outputs": [],
   "source": [
    "#Preparing inputs y outputs\n",
    "\n",
    "ind_variables1 = len(cluster1_np_total[0])-1"
   ]
  },
  {
   "cell_type": "code",
   "execution_count": 33,
   "metadata": {
    "scrolled": true
   },
   "outputs": [],
   "source": [
    "#data y labels\n",
    "\n",
    "X1 = cluster1_np_total[:, :ind_variables1]\n",
    "Y1 = cluster1_np_total[:, -1]"
   ]
  },
  {
   "cell_type": "code",
   "execution_count": 34,
   "metadata": {},
   "outputs": [],
   "source": [
    "#train-test split  80% train / 20%testear\n",
    "\n",
    "X1_train, X1_test, y1_train, y1_test = train_test_split(X1, Y1, test_size=0.2, random_state=42)"
   ]
  },
  {
   "cell_type": "code",
   "execution_count": 38,
   "metadata": {},
   "outputs": [],
   "source": [
    "#infraestructuta de red\n",
    "\n",
    "model_2 = Sequential([\n",
    "    Dense(10, activation='relu'),\n",
    "    Dense(7, activation='relu'),\n",
    "    Dense(1, activation='relu'),\n",
    "])\n",
    "\n",
    "\n",
    "# configuracion de red\n",
    "\n",
    "model_2.compile(\n",
    "    optimizer = Adam(learning_rate=0.001),\n",
    "    loss = 'mae',\n",
    "    metrics = ['accuracy'])"
   ]
  },
  {
   "cell_type": "code",
   "execution_count": 39,
   "metadata": {
    "scrolled": true
   },
   "outputs": [
    {
     "name": "stdout",
     "output_type": "stream",
     "text": [
      "Epoch 1/50\n",
      "151/151 [==============================] - 0s 1ms/step - loss: 0.4849 - accuracy: 0.5113 - val_loss: 0.4604 - val_accuracy: 0.5502\n",
      "Epoch 2/50\n",
      "151/151 [==============================] - 0s 883us/step - loss: 0.4626 - accuracy: 0.5443 - val_loss: 0.4511 - val_accuracy: 0.5610\n",
      "Epoch 3/50\n",
      "151/151 [==============================] - 0s 872us/step - loss: 0.4552 - accuracy: 0.5580 - val_loss: 0.4459 - val_accuracy: 0.5693\n",
      "Epoch 4/50\n",
      "151/151 [==============================] - 0s 952us/step - loss: 0.4494 - accuracy: 0.5667 - val_loss: 0.4417 - val_accuracy: 0.5668\n",
      "Epoch 5/50\n",
      "151/151 [==============================] - 0s 854us/step - loss: 0.4443 - accuracy: 0.5700 - val_loss: 0.4379 - val_accuracy: 0.5751\n",
      "Epoch 6/50\n",
      "151/151 [==============================] - 0s 923us/step - loss: 0.4391 - accuracy: 0.5777 - val_loss: 0.4349 - val_accuracy: 0.5668\n",
      "Epoch 7/50\n",
      "151/151 [==============================] - 0s 998us/step - loss: 0.4343 - accuracy: 0.5833 - val_loss: 0.4347 - val_accuracy: 0.5751\n",
      "Epoch 8/50\n",
      "151/151 [==============================] - 0s 944us/step - loss: 0.4312 - accuracy: 0.5835 - val_loss: 0.4316 - val_accuracy: 0.5701\n",
      "Epoch 9/50\n",
      "151/151 [==============================] - 0s 878us/step - loss: 0.4294 - accuracy: 0.5844 - val_loss: 0.4305 - val_accuracy: 0.5851\n",
      "Epoch 10/50\n",
      "151/151 [==============================] - 0s 837us/step - loss: 0.4273 - accuracy: 0.5947 - val_loss: 0.4306 - val_accuracy: 0.5784\n",
      "Epoch 11/50\n",
      "151/151 [==============================] - 0s 831us/step - loss: 0.4260 - accuracy: 0.5924 - val_loss: 0.4293 - val_accuracy: 0.5734\n",
      "Epoch 12/50\n",
      "151/151 [==============================] - 0s 898us/step - loss: 0.4249 - accuracy: 0.5935 - val_loss: 0.4283 - val_accuracy: 0.5867\n",
      "Epoch 13/50\n",
      "151/151 [==============================] - 0s 833us/step - loss: 0.4237 - accuracy: 0.5908 - val_loss: 0.4281 - val_accuracy: 0.5718\n",
      "Epoch 14/50\n",
      "151/151 [==============================] - 0s 853us/step - loss: 0.4228 - accuracy: 0.5927 - val_loss: 0.4267 - val_accuracy: 0.5676\n",
      "Epoch 15/50\n",
      "151/151 [==============================] - 0s 891us/step - loss: 0.4212 - accuracy: 0.5980 - val_loss: 0.4263 - val_accuracy: 0.5718\n",
      "Epoch 16/50\n",
      "151/151 [==============================] - 0s 989us/step - loss: 0.4206 - accuracy: 0.6016 - val_loss: 0.4264 - val_accuracy: 0.5743\n",
      "Epoch 17/50\n",
      "151/151 [==============================] - 0s 828us/step - loss: 0.4197 - accuracy: 0.6022 - val_loss: 0.4256 - val_accuracy: 0.5867\n",
      "Epoch 18/50\n",
      "151/151 [==============================] - 0s 815us/step - loss: 0.4181 - accuracy: 0.6063 - val_loss: 0.4247 - val_accuracy: 0.5851\n",
      "Epoch 19/50\n",
      "151/151 [==============================] - 0s 856us/step - loss: 0.4174 - accuracy: 0.6047 - val_loss: 0.4247 - val_accuracy: 0.5817\n",
      "Epoch 20/50\n",
      "151/151 [==============================] - 0s 906us/step - loss: 0.4169 - accuracy: 0.6059 - val_loss: 0.4247 - val_accuracy: 0.5867\n",
      "Epoch 21/50\n",
      "151/151 [==============================] - 0s 837us/step - loss: 0.4154 - accuracy: 0.6109 - val_loss: 0.4254 - val_accuracy: 0.5851\n",
      "Epoch 22/50\n",
      "151/151 [==============================] - 0s 855us/step - loss: 0.4143 - accuracy: 0.6109 - val_loss: 0.4231 - val_accuracy: 0.5892\n",
      "Epoch 23/50\n",
      "151/151 [==============================] - 0s 809us/step - loss: 0.4127 - accuracy: 0.6155 - val_loss: 0.4241 - val_accuracy: 0.5934\n",
      "Epoch 24/50\n",
      "151/151 [==============================] - 0s 844us/step - loss: 0.4118 - accuracy: 0.6147 - val_loss: 0.4232 - val_accuracy: 0.6033\n",
      "Epoch 25/50\n",
      "151/151 [==============================] - 0s 917us/step - loss: 0.4109 - accuracy: 0.6194 - val_loss: 0.4219 - val_accuracy: 0.5975\n",
      "Epoch 26/50\n",
      "151/151 [==============================] - 0s 812us/step - loss: 0.4097 - accuracy: 0.6144 - val_loss: 0.4220 - val_accuracy: 0.5975\n",
      "Epoch 27/50\n",
      "151/151 [==============================] - 0s 845us/step - loss: 0.4093 - accuracy: 0.6286 - val_loss: 0.4205 - val_accuracy: 0.5934\n",
      "Epoch 28/50\n",
      "151/151 [==============================] - 0s 932us/step - loss: 0.4080 - accuracy: 0.6232 - val_loss: 0.4199 - val_accuracy: 0.5975\n",
      "Epoch 29/50\n",
      "151/151 [==============================] - 0s 896us/step - loss: 0.4079 - accuracy: 0.6246 - val_loss: 0.4202 - val_accuracy: 0.6017\n",
      "Epoch 30/50\n",
      "151/151 [==============================] - 0s 847us/step - loss: 0.4066 - accuracy: 0.6296 - val_loss: 0.4195 - val_accuracy: 0.6000\n",
      "Epoch 31/50\n",
      "151/151 [==============================] - 0s 830us/step - loss: 0.4063 - accuracy: 0.6259 - val_loss: 0.4190 - val_accuracy: 0.5975\n",
      "Epoch 32/50\n",
      "151/151 [==============================] - 0s 798us/step - loss: 0.4054 - accuracy: 0.6300 - val_loss: 0.4188 - val_accuracy: 0.6066\n",
      "Epoch 33/50\n",
      "151/151 [==============================] - 0s 809us/step - loss: 0.4046 - accuracy: 0.6342 - val_loss: 0.4177 - val_accuracy: 0.5967\n",
      "Epoch 34/50\n",
      "151/151 [==============================] - 0s 818us/step - loss: 0.4027 - accuracy: 0.6292 - val_loss: 0.4169 - val_accuracy: 0.6033\n",
      "Epoch 35/50\n",
      "151/151 [==============================] - 0s 791us/step - loss: 0.4031 - accuracy: 0.6273 - val_loss: 0.4158 - val_accuracy: 0.6058\n",
      "Epoch 36/50\n",
      "151/151 [==============================] - 0s 914us/step - loss: 0.4026 - accuracy: 0.6300 - val_loss: 0.4161 - val_accuracy: 0.6050\n",
      "Epoch 37/50\n",
      "151/151 [==============================] - 0s 856us/step - loss: 0.4014 - accuracy: 0.6288 - val_loss: 0.4144 - val_accuracy: 0.5950\n",
      "Epoch 38/50\n",
      "151/151 [==============================] - 0s 819us/step - loss: 0.4004 - accuracy: 0.6263 - val_loss: 0.4159 - val_accuracy: 0.6025\n",
      "Epoch 39/50\n",
      "151/151 [==============================] - 0s 823us/step - loss: 0.3998 - accuracy: 0.6271 - val_loss: 0.4139 - val_accuracy: 0.5967\n",
      "Epoch 40/50\n",
      "151/151 [==============================] - 0s 798us/step - loss: 0.3985 - accuracy: 0.6263 - val_loss: 0.4152 - val_accuracy: 0.5967\n",
      "Epoch 41/50\n",
      "151/151 [==============================] - 0s 814us/step - loss: 0.3979 - accuracy: 0.6277 - val_loss: 0.4119 - val_accuracy: 0.6108\n",
      "Epoch 42/50\n",
      "151/151 [==============================] - 0s 808us/step - loss: 0.3964 - accuracy: 0.6310 - val_loss: 0.4114 - val_accuracy: 0.6100\n",
      "Epoch 43/50\n",
      "151/151 [==============================] - 0s 849us/step - loss: 0.3958 - accuracy: 0.6296 - val_loss: 0.4106 - val_accuracy: 0.6041\n",
      "Epoch 44/50\n",
      "151/151 [==============================] - 0s 807us/step - loss: 0.3948 - accuracy: 0.6296 - val_loss: 0.4102 - val_accuracy: 0.6050\n",
      "Epoch 45/50\n",
      "151/151 [==============================] - 0s 816us/step - loss: 0.3939 - accuracy: 0.6279 - val_loss: 0.4106 - val_accuracy: 0.6000\n",
      "Epoch 46/50\n",
      "151/151 [==============================] - 0s 812us/step - loss: 0.3930 - accuracy: 0.6317 - val_loss: 0.4087 - val_accuracy: 0.6083\n",
      "Epoch 47/50\n",
      "151/151 [==============================] - 0s 821us/step - loss: 0.3922 - accuracy: 0.6346 - val_loss: 0.4077 - val_accuracy: 0.6050\n",
      "Epoch 48/50\n",
      "151/151 [==============================] - 0s 834us/step - loss: 0.3925 - accuracy: 0.6352 - val_loss: 0.4064 - val_accuracy: 0.6166\n",
      "Epoch 49/50\n",
      "151/151 [==============================] - 0s 813us/step - loss: 0.3909 - accuracy: 0.6427 - val_loss: 0.4058 - val_accuracy: 0.6116\n",
      "Epoch 50/50\n",
      "151/151 [==============================] - 0s 817us/step - loss: 0.3903 - accuracy: 0.6427 - val_loss: 0.4054 - val_accuracy: 0.6216\n"
     ]
    }
   ],
   "source": [
    "history = model_2.fit(x = X1_train, \n",
    "                    y = y1_train, \n",
    "                    validation_data = (X1_test, y1_test),\n",
    "                    epochs=50\n",
    "                    )"
   ]
  },
  {
   "cell_type": "code",
   "execution_count": 40,
   "metadata": {},
   "outputs": [
    {
     "name": "stdout",
     "output_type": "stream",
     "text": [
      "final metrics: [0.4053576588630676, 0.6215767860412598]\n"
     ]
    }
   ],
   "source": [
    "# metrics\n",
    "print(\"final metrics:\", model_2.evaluate(X1_test, y1_test, verbose=False))"
   ]
  },
  {
   "cell_type": "code",
   "execution_count": null,
   "metadata": {},
   "outputs": [],
   "source": [
    "X1_test[0]"
   ]
  },
  {
   "cell_type": "code",
   "execution_count": null,
   "metadata": {},
   "outputs": [],
   "source": [
    "from datetime import datetime\n",
    "\n",
    "now = datetime.now()\n",
    "\n",
    "current_time = now.strftime(\"%H:%M:%S\")\n",
    "print(\"Current Time =\", current_time)"
   ]
  }
 ],
 "metadata": {
  "kernelspec": {
   "display_name": "Python 3",
   "language": "python",
   "name": "python3"
  },
  "language_info": {
   "codemirror_mode": {
    "name": "ipython",
    "version": 3
   },
   "file_extension": ".py",
   "mimetype": "text/x-python",
   "name": "python",
   "nbconvert_exporter": "python",
   "pygments_lexer": "ipython3",
   "version": "3.7.4"
  }
 },
 "nbformat": 4,
 "nbformat_minor": 4
}
