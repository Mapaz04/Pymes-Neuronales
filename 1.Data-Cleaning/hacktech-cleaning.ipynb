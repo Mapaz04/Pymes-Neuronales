{
 "metadata": {
  "language_info": {
   "codemirror_mode": {
    "name": "ipython",
    "version": 3
   },
   "file_extension": ".py",
   "mimetype": "text/x-python",
   "name": "python",
   "nbconvert_exporter": "python",
   "pygments_lexer": "ipython3",
   "version": "3.8.5-final"
  },
  "orig_nbformat": 2,
  "kernelspec": {
   "name": "Python 3.8.5 64-bit ('clasemineria': conda)",
   "display_name": "Python 3.8.5 64-bit ('clasemineria': conda)",
   "metadata": {
    "interpreter": {
     "hash": "00bfe7b6a5386347370f4802946a70036f6d2a25b57e67edb02b05c9af45cdfc"
    }
   }
  }
 },
 "nbformat": 4,
 "nbformat_minor": 2,
 "cells": [
  {
   "source": [
    "# Trabajo con dataframes para reto \"Crédito PyMe\" - Hackaton BBVA"
   ],
   "cell_type": "markdown",
   "metadata": {}
  },
  {
   "cell_type": "code",
   "execution_count": 1,
   "metadata": {},
   "outputs": [],
   "source": [
    "import pandas as pd\n",
    "from datetime import date\n",
    "import numpy as np"
   ]
  },
  {
   "cell_type": "code",
   "execution_count": 2,
   "metadata": {},
   "outputs": [],
   "source": [
    "# Leemos los archivos csv\n",
    "df_Ranking = pd.read_csv(r\"dbRanking.csv\", sep=\"|\", encoding='utf8')\n",
    "df_Rcc = pd.read_csv(r\"dbRcc.csv\", sep=\"|\", encoding='utf8')\n",
    "df_Universo = pd.read_csv(r\"dbUniverso.csv\", sep=\"|\", encoding='utf8')\n"
   ]
  },
  {
   "source": [
    "## Tratamiento inicial de dataframes y primer merge entre Rcc y Universo"
   ],
   "cell_type": "markdown",
   "metadata": {}
  },
  {
   "cell_type": "code",
   "execution_count": 3,
   "metadata": {},
   "outputs": [],
   "source": [
    "# Eliminamos las columnas\n",
    "df_Rcc.drop(columns = [\"sbs_entity_id\", \"cutoff_date\"], inplace = True)\n",
    "df_Universo.drop(columns = [\"personal_type\", \"gender_type\", \"birth_date\", \"marital_status_type\", \"income_monthly_amount\", \"cutoff_date\"], inplace = True)"
   ]
  },
  {
   "cell_type": "code",
   "execution_count": 4,
   "metadata": {},
   "outputs": [],
   "source": [
    "# Convertir df_Universo[\"sbs_customer_id\"] a dtype int64 para evitar la notación científica\n",
    "df_Universo[\"sbs_customer_id\"] = df_Universo[\"sbs_customer_id\"].convert_dtypes(\"int64\")"
   ]
  },
  {
   "cell_type": "code",
   "execution_count": 5,
   "metadata": {},
   "outputs": [],
   "source": [
    "# Quedamos con los registros de df_Universo que tienen un valor de sbs_customer_id\n",
    "df_temp = df_Universo[df_Universo[\"sbs_customer_id\"].isin(df_Universo[\"sbs_customer_id\"].dropna())]\n",
    "df_temp = pd.DataFrame(df_temp)"
   ]
  },
  {
   "cell_type": "code",
   "execution_count": 6,
   "metadata": {},
   "outputs": [],
   "source": [
    "# Unimos las tablas Universo y Rcc\n",
    "df_total = pd.merge(left= df_temp, right= df_Rcc)"
   ]
  },
  {
   "source": [
    "## Limpiar el df_Ranking"
   ],
   "cell_type": "markdown",
   "metadata": {}
  },
  {
   "cell_type": "code",
   "execution_count": 7,
   "metadata": {},
   "outputs": [],
   "source": [
    "# Columnas de Ranking que no son el último valor registrado de año: 133-157, 159-183, 184-198\n",
    "columnas_borradas = list(range(133,157)) + list(range(159,183)) + list(range(184,198)) + list(range(216, 225))\n",
    "df_Ranking.drop(columns = df_Ranking.columns[columnas_borradas], inplace = True)"
   ]
  },
  {
   "cell_type": "code",
   "execution_count": 8,
   "metadata": {},
   "outputs": [
    {
     "output_type": "stream",
     "name": "stdout",
     "text": [
      "Col 7, seniority_company_years_number: 320\n",
      "Col 8, company_size_desc: 34\n",
      "Col 10, department_name: 2\n",
      "Col 11, province_name: 0\n",
      "Col 12, district_name: 0\n",
      "Col 13, private_public_mark_desc: 0\n",
      "Col 14, market_share_per: 274\n",
      "Col 132, usd_export_2017_amount: 0\n",
      "Col 133, importer_mark_type: 6547\n",
      "Col 134, usd_import_2017_amount: 0\n",
      "Col 135, state_sales_2016_amount: 0\n",
      "Col 153, pbi_sector_2016_per: 9\n",
      "Col 154, cutoff_date: 0\n"
     ]
    }
   ],
   "source": [
    "# Armamos un vector con los índices de las columnas con menos de la mitad de valores vacíos\n",
    "guardar = []\n",
    "for col in range(7, len(df_Ranking.columns)):\n",
    "    vacios = sum(df_Ranking.iloc[:, col].isna())\n",
    "    if vacios < len(df_Ranking)/2:\n",
    "        guardar.append(col) \n",
    "        print(f\"Col {col}, {df_Ranking.columns[col]}: {vacios}\")"
   ]
  },
  {
   "cell_type": "code",
   "execution_count": 9,
   "metadata": {},
   "outputs": [],
   "source": [
    "# Incluimos las primeras 7 columnas\n",
    "guardar = list(range(7)) + guardar\n",
    "\n",
    "# Recreamos el dataframe con las columnas seleccionadas\n",
    "df_Ranking = pd.DataFrame(df_Ranking.iloc[:,guardar])"
   ]
  },
  {
   "cell_type": "code",
   "execution_count": 10,
   "metadata": {},
   "outputs": [],
   "source": [
    "# Borramos las columnas con datos que no usaremos\n",
    "df_Ranking.drop(columns= [\"company_economic_activity_id\",\n",
    "                          \"ciiu_spanish_desc\",\n",
    "                          \"private_public_mark_desc\",\n",
    "                          \"activity_start_date\",\n",
    "                          #\"province_name\",\n",
    "                          \"district_name\",\n",
    "                          \"importer_mark_type\",\n",
    "                          \"cutoff_date\"], inplace = True)"
   ]
  },
  {
   "source": [
    "## Merge del df_total y  df_Ranking"
   ],
   "cell_type": "markdown",
   "metadata": {}
  },
  {
   "cell_type": "code",
   "execution_count": 11,
   "metadata": {},
   "outputs": [],
   "source": [
    "# Merge del dataframe y nuestra tabla Ranking trabajada\n",
    "df_total = pd.merge(left= df_total, right= df_Ranking)\n",
    "\n",
    "# Borramos las columnas con IDs\n",
    "# df_total.drop(columns = [\"customer_id\", \"sbs_customer_id\", \"taxpayer_id\"], inplace = True)\n",
    "\n",
    "# Seleccionamos las Pequeñas y Medianas empresas\n",
    "df_total = pd.DataFrame(df_total[ df_total[\"company_size_desc\"] != \"Gran Empresa / Big-size Company\" ], index=None)\n"
   ]
  },
  {
   "cell_type": "code",
   "execution_count": 12,
   "metadata": {},
   "outputs": [],
   "source": [
    "df_total.reset_index(inplace = True)\n",
    "df_total.drop(columns = [\"index\"], inplace = True)"
   ]
  },
  {
   "cell_type": "code",
   "execution_count": 13,
   "metadata": {},
   "outputs": [],
   "source": [
    "# Borramos todas las filas con valores vacíos (NaN)\n",
    "filas_para_borrar = []\n",
    "for i in df_total.index:\n",
    "    if sum(df_total.iloc[i].isna()) > 0:\n",
    "        filas_para_borrar.append(i)\n",
    "\n",
    "df_total.drop(index=filas_para_borrar, inplace = True)"
   ]
  },
  {
   "source": [
    "## Tratamiento de variables"
   ],
   "cell_type": "markdown",
   "metadata": {}
  },
  {
   "cell_type": "code",
   "execution_count": 14,
   "metadata": {},
   "outputs": [],
   "source": [
    "# Variable \"admission_date\"\n",
    "\n",
    "año_actual = date.today().year\n",
    "temporal = pd.to_datetime(df_total[\"admission_date\"], format= \"%Y-%m-%d\")\n",
    "\n",
    "# Reemplazamos los valores de admission_date por los años respecto al año atual\n",
    "df_total[\"admission_date\"] = pd.Series ( [año_actual - temporal.iloc[x].year for x in range(len(temporal))] )\n",
    "\n",
    "# Eliminamos las filas con valores NaN\n",
    "df_total = pd.DataFrame(df_total[ [not x for x in df_total[\"admission_date\"].isnull()] ])"
   ]
  },
  {
   "cell_type": "code",
   "execution_count": 15,
   "metadata": {},
   "outputs": [],
   "source": [
    "# Variable \"seniority_company_years_number\"\n",
    "\n",
    "def año_funcionamiento(x):\n",
    "    return x + 2\n",
    "df_total[\"año_funcionamiento\"] = df_total.apply(lambda x: año_funcionamiento(x.seniority_company_years_number), axis=1)\n",
    "\n",
    "# Borrar últimas variables\n",
    "df_total.drop(columns = [\"seniority_company_years_number\", \"segmento\", \"spanish_sector_company_name\"], inplace = True)"
   ]
  },
  {
   "cell_type": "code",
   "execution_count": 16,
   "metadata": {},
   "outputs": [],
   "source": [
    "df_total.reset_index(inplace = True)\n",
    "df_total.drop(columns = [\"index\"], inplace = True)"
   ]
  },
  {
   "source": [
    "# Variable con localización\n",
    "\n",
    "# Importamos datos de ingreso promedio para cada una de las provincias del país\n",
    "df_ubigeos = pd.read_csv(\"ProvinciaEconomico.csv\")"
   ],
   "cell_type": "code",
   "metadata": {},
   "execution_count": 17,
   "outputs": []
  },
  {
   "cell_type": "code",
   "execution_count": 18,
   "metadata": {},
   "outputs": [],
   "source": [
    "# Corregir nombres de provincias\n",
    "for fila in df_total[df_total[\"province_name\"] == 'HuÃ¡nuco'].index:\n",
    "    df_total.loc[fila, \"province_name\"] = 'Huánuco'\n",
    "\n",
    "for fila in df_total[df_total[\"province_name\"] == 'San RomÃ¡n'].index:\n",
    "    df_total.loc[fila, \"province_name\"] = 'San Román'\n",
    "\n",
    "for fila in df_total[df_total[\"province_name\"] == 'San MartÃ­n'].index:\n",
    "    df_total.loc[fila, \"province_name\"] = 'San Martín'\n",
    "\n",
    "for fila in df_total[df_total[\"province_name\"] == 'JaÃ©n'].index:\n",
    "    df_total.loc[fila, \"province_name\"] = 'Jaén'\n",
    "\n",
    "for fila in df_total[df_total[\"province_name\"] == 'La ConvenciÃ³n'].index:\n",
    "    df_total.loc[fila, \"province_name\"] = 'La Convención'\n",
    "\n",
    "for fila in df_total[df_total[\"province_name\"] == 'CaÃ±ete'].index:\n",
    "    df_total.loc[fila, \"province_name\"] = 'Cañete'\n",
    "\n",
    "for fila in df_total[df_total[\"province_name\"] == 'BongarÃ¡'].index:\n",
    "    df_total.loc[fila, \"province_name\"] = 'Bongará'\n",
    "\n",
    "for fila in df_total[df_total[\"province_name\"] == 'CamanÃ¡'].index:\n",
    "    df_total.loc[fila, \"province_name\"] = 'Camaná'\n"
   ]
  },
  {
   "cell_type": "code",
   "execution_count": 19,
   "metadata": {},
   "outputs": [],
   "source": [
    "# Corregir nombres de departamentos\n",
    "for fila in df_total[df_total[\"department_name\"] == 'JunÃ­n'].index:\n",
    "    df_total.loc[fila, \"department_name\"] = 'Juní­n'\n",
    "\n",
    "for fila in df_total[df_total[\"department_name\"] == 'HuÃ¡nuco'].index:\n",
    "    df_total.loc[fila, \"department_name\"] = 'Huánuco'\n",
    "\n",
    "for fila in df_total[df_total[\"department_name\"] == 'San MartÃ­n'].index:\n",
    "    df_total.loc[fila, \"department_name\"] = 'San Martín'\n",
    "\n",
    "for fila in df_total[df_total[\"department_name\"] == 'ApurÃ­mac'].index:\n",
    "    df_total.loc[fila, \"department_name\"] = 'Apurímac'\n",
    "\n",
    "for fila in df_total[df_total[\"department_name\"] == 'Callao'].index:\n",
    "    df_total.loc[fila, \"department_name\"] = 'Lima'\n"
   ]
  },
  {
   "cell_type": "code",
   "execution_count": 20,
   "metadata": {},
   "outputs": [],
   "source": [
    "#Agregamos una variable de ingresos promedio en vez de las variables de provincia y departamento\n",
    "ingreso_promedio_provincia = []\n",
    "departamento_temp = []\n",
    "provincia_temp = []\n",
    "for i in df_total.index:\n",
    "    for j in df_ubigeos.index:\n",
    "        if (df_total.loc[i, \"province_name\"]==df_ubigeos.loc[j, \"PROVINCIA\"]):\n",
    "            ingreso_promedio_provincia.append(df_ubigeos.loc[j, 'P_Ingresos'])\n",
    "df_total[\"ingreso_promedio_provincia\"] = pd.Series(ingreso_promedio_provincia)\n",
    "df_total.drop(columns = [\"department_name\", \"province_name\"], inplace = True)"
   ]
  },
  {
   "source": [
    "## Armar variable de salida"
   ],
   "cell_type": "markdown",
   "metadata": {}
  },
  {
   "cell_type": "code",
   "execution_count": 21,
   "metadata": {},
   "outputs": [],
   "source": [
    "df_total.reset_index(inplace = True)\n",
    "df_total.drop(columns = [\"index\"], inplace = True)"
   ]
  },
  {
   "cell_type": "code",
   "execution_count": 22,
   "metadata": {},
   "outputs": [],
   "source": [
    "def umbralBinario(I,u1):\n",
    "    out = np.where((I <= u1),1,0)                \n",
    "    return out\n",
    "\n",
    "new = []\n",
    "for i in range(len(df_total[\"num_days_default_payment_number\"])):\n",
    "    new.append(umbralBinario(df_total.loc[i, \"num_days_default_payment_number\"],60))\n",
    "    \n",
    "X_bin = np.array(new)\n",
    "temp = pd.Series(X_bin)\n",
    "df_total[\"num_days_default_payment_number\"] = temp"
   ]
  },
  {
   "source": [
    "## Borramos las variables categóricas producto, subproducto, situación de credito, company_size_desc y nombre de provincia/departamento"
   ],
   "cell_type": "markdown",
   "metadata": {}
  },
  {
   "cell_type": "code",
   "execution_count": 23,
   "metadata": {},
   "outputs": [],
   "source": [
    "df_pequeñas = df_total[df_total[\"company_size_desc\"] == \"PequeÃ±a empresa / Small-size Company\"]"
   ]
  },
  {
   "cell_type": "code",
   "execution_count": 24,
   "metadata": {},
   "outputs": [
    {
     "output_type": "execute_result",
     "data": {
      "text/plain": [
       "1    19318\n",
       "0     1397\n",
       "Name: num_days_default_payment_number, dtype: int64"
      ]
     },
     "metadata": {},
     "execution_count": 24
    }
   ],
   "source": [
    "df_pequeñas[\"num_days_default_payment_number\"].value_counts()"
   ]
  },
  {
   "cell_type": "code",
   "execution_count": 25,
   "metadata": {},
   "outputs": [],
   "source": [
    "# Borramos las variables categóricas\n",
    "df_total.drop(columns = [\"producto\", \"subproducto\", \"situacion_credito\", \"company_size_desc\"], inplace = True)"
   ]
  },
  {
   "cell_type": "code",
   "execution_count": 26,
   "metadata": {},
   "outputs": [],
   "source": [
    "# Mandar la variable de salida al final del dataframe\n",
    "columnas = list(df_total.columns)\n",
    "columnas.remove(\"num_days_default_payment_number\")\n",
    "columnas.append(\"num_days_default_payment_number\")\n",
    "\n",
    "df_total = df_total.reindex(columns = columnas)"
   ]
  },
  {
   "cell_type": "code",
   "execution_count": 27,
   "metadata": {},
   "outputs": [
    {
     "output_type": "execute_result",
     "data": {
      "text/plain": [
       "       personal_id  customer_id  sbs_customer_id  taxpayer_id  admission_date  \\\n",
       "0      52612482530     11166569       5753661293  52612482530            19.0   \n",
       "1      52612482530     11166569       5753661293  52612482530            19.0   \n",
       "2      52612482530     11166569       5753661293  52612482530            19.0   \n",
       "3      52612482530     11166569       5753661293  52612482530            19.0   \n",
       "4      52612482530     11166569       5753661293  52612482530            19.0   \n",
       "...            ...          ...              ...          ...             ...   \n",
       "88404   6520110151     46018402       9569563909   6520110151             4.0   \n",
       "88405   6520110151     46018402       9569563909   6520110151             4.0   \n",
       "88406   6520110151     46018402       9569563909   6520110151             4.0   \n",
       "88407   6520110151     46018402       9569563909   6520110151             4.0   \n",
       "88408   6520110151     46018402       9569563909   6520110151             4.0   \n",
       "\n",
       "       balance_amount  employees_number  branches_number  market_share_per  \\\n",
       "0            85108.30              64.0              1.0          0.282457   \n",
       "1            85108.30              64.0              1.0          0.282457   \n",
       "2           180271.95              64.0              1.0          0.282457   \n",
       "3           180271.95              64.0              1.0          0.282457   \n",
       "4           302930.16              64.0              1.0          0.282457   \n",
       "...               ...               ...              ...               ...   \n",
       "88404          789.83              39.0              4.0          0.175037   \n",
       "88405          789.83              39.0              4.0          0.175037   \n",
       "88406        20833.30              39.0              4.0          0.175037   \n",
       "88407        20833.30              39.0              4.0          0.175037   \n",
       "88408        20833.30              39.0              4.0          0.175037   \n",
       "\n",
       "       usd_export_2017_amount  usd_import_2017_amount  \\\n",
       "0                   601786.28                  2760.0   \n",
       "1                   601786.28                  2760.0   \n",
       "2                   601786.28                  2760.0   \n",
       "3                   601786.28                  2760.0   \n",
       "4                   601786.28                  2760.0   \n",
       "...                       ...                     ...   \n",
       "88404                    0.00                     0.0   \n",
       "88405                    0.00                     0.0   \n",
       "88406                    0.00                     0.0   \n",
       "88407                    0.00                     0.0   \n",
       "88408                    0.00                     0.0   \n",
       "\n",
       "       state_sales_2016_amount  pbi_sector_2016_per  año_funcionamiento  \\\n",
       "0                          0.0                  2.5                22.0   \n",
       "1                          0.0                  2.5                22.0   \n",
       "2                          0.0                  2.5                22.0   \n",
       "3                          0.0                  2.5                22.0   \n",
       "4                          0.0                  2.5                22.0   \n",
       "...                        ...                  ...                 ...   \n",
       "88404                      0.0                  2.0                21.0   \n",
       "88405                      0.0                  2.0                21.0   \n",
       "88406                      0.0                  2.0                21.0   \n",
       "88407                      0.0                  2.0                21.0   \n",
       "88408                      0.0                  2.0                21.0   \n",
       "\n",
       "       ingreso_promedio_provincia  num_days_default_payment_number  \n",
       "0                           40100                                1  \n",
       "1                           40100                                1  \n",
       "2                           40100                                1  \n",
       "3                           40100                                1  \n",
       "4                           40100                                1  \n",
       "...                           ...                              ...  \n",
       "88404                       56358                                1  \n",
       "88405                       56358                                1  \n",
       "88406                       56358                                1  \n",
       "88407                       56358                                1  \n",
       "88408                       56358                                1  \n",
       "\n",
       "[88409 rows x 16 columns]"
      ],
      "text/html": "<div>\n<style scoped>\n    .dataframe tbody tr th:only-of-type {\n        vertical-align: middle;\n    }\n\n    .dataframe tbody tr th {\n        vertical-align: top;\n    }\n\n    .dataframe thead th {\n        text-align: right;\n    }\n</style>\n<table border=\"1\" class=\"dataframe\">\n  <thead>\n    <tr style=\"text-align: right;\">\n      <th></th>\n      <th>personal_id</th>\n      <th>customer_id</th>\n      <th>sbs_customer_id</th>\n      <th>taxpayer_id</th>\n      <th>admission_date</th>\n      <th>balance_amount</th>\n      <th>employees_number</th>\n      <th>branches_number</th>\n      <th>market_share_per</th>\n      <th>usd_export_2017_amount</th>\n      <th>usd_import_2017_amount</th>\n      <th>state_sales_2016_amount</th>\n      <th>pbi_sector_2016_per</th>\n      <th>año_funcionamiento</th>\n      <th>ingreso_promedio_provincia</th>\n      <th>num_days_default_payment_number</th>\n    </tr>\n  </thead>\n  <tbody>\n    <tr>\n      <th>0</th>\n      <td>52612482530</td>\n      <td>11166569</td>\n      <td>5753661293</td>\n      <td>52612482530</td>\n      <td>19.0</td>\n      <td>85108.30</td>\n      <td>64.0</td>\n      <td>1.0</td>\n      <td>0.282457</td>\n      <td>601786.28</td>\n      <td>2760.0</td>\n      <td>0.0</td>\n      <td>2.5</td>\n      <td>22.0</td>\n      <td>40100</td>\n      <td>1</td>\n    </tr>\n    <tr>\n      <th>1</th>\n      <td>52612482530</td>\n      <td>11166569</td>\n      <td>5753661293</td>\n      <td>52612482530</td>\n      <td>19.0</td>\n      <td>85108.30</td>\n      <td>64.0</td>\n      <td>1.0</td>\n      <td>0.282457</td>\n      <td>601786.28</td>\n      <td>2760.0</td>\n      <td>0.0</td>\n      <td>2.5</td>\n      <td>22.0</td>\n      <td>40100</td>\n      <td>1</td>\n    </tr>\n    <tr>\n      <th>2</th>\n      <td>52612482530</td>\n      <td>11166569</td>\n      <td>5753661293</td>\n      <td>52612482530</td>\n      <td>19.0</td>\n      <td>180271.95</td>\n      <td>64.0</td>\n      <td>1.0</td>\n      <td>0.282457</td>\n      <td>601786.28</td>\n      <td>2760.0</td>\n      <td>0.0</td>\n      <td>2.5</td>\n      <td>22.0</td>\n      <td>40100</td>\n      <td>1</td>\n    </tr>\n    <tr>\n      <th>3</th>\n      <td>52612482530</td>\n      <td>11166569</td>\n      <td>5753661293</td>\n      <td>52612482530</td>\n      <td>19.0</td>\n      <td>180271.95</td>\n      <td>64.0</td>\n      <td>1.0</td>\n      <td>0.282457</td>\n      <td>601786.28</td>\n      <td>2760.0</td>\n      <td>0.0</td>\n      <td>2.5</td>\n      <td>22.0</td>\n      <td>40100</td>\n      <td>1</td>\n    </tr>\n    <tr>\n      <th>4</th>\n      <td>52612482530</td>\n      <td>11166569</td>\n      <td>5753661293</td>\n      <td>52612482530</td>\n      <td>19.0</td>\n      <td>302930.16</td>\n      <td>64.0</td>\n      <td>1.0</td>\n      <td>0.282457</td>\n      <td>601786.28</td>\n      <td>2760.0</td>\n      <td>0.0</td>\n      <td>2.5</td>\n      <td>22.0</td>\n      <td>40100</td>\n      <td>1</td>\n    </tr>\n    <tr>\n      <th>...</th>\n      <td>...</td>\n      <td>...</td>\n      <td>...</td>\n      <td>...</td>\n      <td>...</td>\n      <td>...</td>\n      <td>...</td>\n      <td>...</td>\n      <td>...</td>\n      <td>...</td>\n      <td>...</td>\n      <td>...</td>\n      <td>...</td>\n      <td>...</td>\n      <td>...</td>\n      <td>...</td>\n    </tr>\n    <tr>\n      <th>88404</th>\n      <td>6520110151</td>\n      <td>46018402</td>\n      <td>9569563909</td>\n      <td>6520110151</td>\n      <td>4.0</td>\n      <td>789.83</td>\n      <td>39.0</td>\n      <td>4.0</td>\n      <td>0.175037</td>\n      <td>0.00</td>\n      <td>0.0</td>\n      <td>0.0</td>\n      <td>2.0</td>\n      <td>21.0</td>\n      <td>56358</td>\n      <td>1</td>\n    </tr>\n    <tr>\n      <th>88405</th>\n      <td>6520110151</td>\n      <td>46018402</td>\n      <td>9569563909</td>\n      <td>6520110151</td>\n      <td>4.0</td>\n      <td>789.83</td>\n      <td>39.0</td>\n      <td>4.0</td>\n      <td>0.175037</td>\n      <td>0.00</td>\n      <td>0.0</td>\n      <td>0.0</td>\n      <td>2.0</td>\n      <td>21.0</td>\n      <td>56358</td>\n      <td>1</td>\n    </tr>\n    <tr>\n      <th>88406</th>\n      <td>6520110151</td>\n      <td>46018402</td>\n      <td>9569563909</td>\n      <td>6520110151</td>\n      <td>4.0</td>\n      <td>20833.30</td>\n      <td>39.0</td>\n      <td>4.0</td>\n      <td>0.175037</td>\n      <td>0.00</td>\n      <td>0.0</td>\n      <td>0.0</td>\n      <td>2.0</td>\n      <td>21.0</td>\n      <td>56358</td>\n      <td>1</td>\n    </tr>\n    <tr>\n      <th>88407</th>\n      <td>6520110151</td>\n      <td>46018402</td>\n      <td>9569563909</td>\n      <td>6520110151</td>\n      <td>4.0</td>\n      <td>20833.30</td>\n      <td>39.0</td>\n      <td>4.0</td>\n      <td>0.175037</td>\n      <td>0.00</td>\n      <td>0.0</td>\n      <td>0.0</td>\n      <td>2.0</td>\n      <td>21.0</td>\n      <td>56358</td>\n      <td>1</td>\n    </tr>\n    <tr>\n      <th>88408</th>\n      <td>6520110151</td>\n      <td>46018402</td>\n      <td>9569563909</td>\n      <td>6520110151</td>\n      <td>4.0</td>\n      <td>20833.30</td>\n      <td>39.0</td>\n      <td>4.0</td>\n      <td>0.175037</td>\n      <td>0.00</td>\n      <td>0.0</td>\n      <td>0.0</td>\n      <td>2.0</td>\n      <td>21.0</td>\n      <td>56358</td>\n      <td>1</td>\n    </tr>\n  </tbody>\n</table>\n<p>88409 rows × 16 columns</p>\n</div>"
     },
     "metadata": {},
     "execution_count": 27
    }
   ],
   "source": [
    "df_total"
   ]
  },
  {
   "cell_type": "code",
   "execution_count": 28,
   "metadata": {},
   "outputs": [],
   "source": [
    "df_total.to_csv(\"dataset_credito_pyme.csv\", encoding=\"utf-8\", index=False)"
   ]
  }
 ]
}